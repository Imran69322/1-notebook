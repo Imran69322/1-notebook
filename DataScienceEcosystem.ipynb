{
 "cells": [
  {
   "cell_type": "markdown",
   "id": "55326ab5-500d-4081-a1b7-bff226d25e9d",
   "metadata": {},
   "source": [
    "# Data Science Tools and Ecosystem"
   ]
  },
  {
   "cell_type": "markdown",
   "id": "12546b7a-c764-405b-95eb-f8a24170c55f",
   "metadata": {},
   "source": [
    "In this notebook, Data Science Tools and Ecosystem are summarized."
   ]
  },
  {
   "cell_type": "markdown",
   "id": "b6d2ae6f-003d-44cd-9756-fe78ce2be34d",
   "metadata": {},
   "source": [
    "**Objectives:** </br>\n",
    "- To learn essential programming language for data science.\n",
    "- To learn common open source free tools.\n",
    "- To learn the popular libraries for data science.\n",
    "- To lean how write arithmetic expressions in Python.\n"
   ]
  },
  {
   "cell_type": "markdown",
   "id": "7aef46e7-a551-4fcb-b056-3b644fc25b82",
   "metadata": {},
   "source": [
    "Some of the popular languages that Data Scientists use are: <br> 1. Python <br> 2. R <br> 3.SQL"
   ]
  },
  {
   "cell_type": "markdown",
   "id": "bf0c27ae-3c5a-4c6e-97de-7369b90dc1cb",
   "metadata": {},
   "source": [
    "Some of the commonly used libraries used by Data Scientists include: <br> 1. Numpy <br> 2. Pytorch <br> 3. Matplotlib"
   ]
  },
  {
   "cell_type": "markdown",
   "id": "19bdbe85-406a-4c28-8a3b-f20cbe219b33",
   "metadata": {},
   "source": [
    "| Data Science Tools | \n",
    "| :-- | \n",
    "| Jupyter Notebook | \n",
    "| Spyder | \n",
    "| RStudio | \n",
    "\n"
   ]
  },
  {
   "cell_type": "markdown",
   "id": "5110dafc-2d97-4b85-9722-3b5d33e4695d",
   "metadata": {},
   "source": [
    "### Below are a few examples of evaluating arithmetic expressions in Python"
   ]
  },
  {
   "cell_type": "code",
   "execution_count": 8,
   "id": "a43e18b6-6fd1-4827-9ab3-a9b6e7585245",
   "metadata": {},
   "outputs": [
    {
     "data": {
      "text/plain": [
       "17"
      ]
     },
     "execution_count": 8,
     "metadata": {},
     "output_type": "execute_result"
    }
   ],
   "source": [
    "(3*4)+5  #This a simple arithmetic expression to mutiply then add integers"
   ]
  },
  {
   "cell_type": "code",
   "execution_count": 21,
   "id": "79360790-a698-45c9-92d1-7fdd0b4ae124",
   "metadata": {},
   "outputs": [
    {
     "name": "stdout",
     "output_type": "stream",
     "text": [
      "200 Minutes = 3.3333333333333335 Hour\n"
     ]
    }
   ],
   "source": [
    "Hour= 200/60\n",
    "print('200 Minutes =',float(Hour),'Hour')  #This will convert 200 minutes to hours by diving by 60"
   ]
  },
  {
   "cell_type": "markdown",
   "id": "ca85da80-fff9-4d41-95ab-e605aea9bb33",
   "metadata": {},
   "source": [
    "## Author\n",
    "Imran Muzib"
   ]
  },
  {
   "cell_type": "code",
   "execution_count": null,
   "id": "7b349f9e-ec26-4e9f-ab6c-201943a58d2b",
   "metadata": {},
   "outputs": [],
   "source": []
  }
 ],
 "metadata": {
  "kernelspec": {
   "display_name": "Python",
   "language": "python",
   "name": "conda-env-python-py"
  },
  "language_info": {
   "codemirror_mode": {
    "name": "ipython",
    "version": 3
   },
   "file_extension": ".py",
   "mimetype": "text/x-python",
   "name": "python",
   "nbconvert_exporter": "python",
   "pygments_lexer": "ipython3",
   "version": "3.7.12"
  }
 },
 "nbformat": 4,
 "nbformat_minor": 5
}
